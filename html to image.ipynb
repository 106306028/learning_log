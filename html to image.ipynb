{
 "cells": [
  {
   "cell_type": "code",
   "execution_count": 1,
   "metadata": {},
   "outputs": [],
   "source": [
    "import csv\n",
    "import imgkit"
   ]
  },
  {
   "cell_type": "code",
   "execution_count": 2,
   "metadata": {},
   "outputs": [],
   "source": [
    "def toImage(csvFile):\n",
    "    with open(csvFile, newline='') as csv1 : #開啟檔案 存入csv1變數\n",
    "        read = csv.reader(csv1) #讀取，存入read變數\n",
    "    \n",
    "        i = 0\n",
    "        for row in read: #迴圈讀取檔案中的row\n",
    "            imgkit.from_url(row , str(i) + '.jpg')  #取出每row第一個column(即 url),並以 順序+.jpg的方式命名儲存\n",
    "            i += 1"
   ]
  },
  {
   "cell_type": "code",
   "execution_count": 3,
   "metadata": {},
   "outputs": [
    {
     "name": "stdout",
     "output_type": "stream",
     "text": [
      "Loading page (1/2)\n",
      "Rendering (2/2)                                                    \n",
      "Done                                                               \n",
      "Loading page (1/2)\n",
      "Rendering (2/2)                                                    \n",
      "Done                                                               \n"
     ]
    },
    {
     "ename": "OSError",
     "evalue": "wkhtmltoimage reported an error:\nLoading page (1/2)\r\n[>                                                           ] 0%\r[======>                                                     ] 10%\r[==================>                                         ] 30%\r[===============================>                            ] 52%\r[==================================>                         ] 57%\r[=====================================>                      ] 62%\r[=======================================>                    ] 65%\r[=============================================>              ] 76%\r[=================================================>          ] 83%\r[===================================================>        ] 86%\r[====================================================>       ] 88%\r[============================================================] 100%\rRendering (2/2)                                                    \r\n[>                                                           ] 0%\r[===============>                                            ] 25%\rWarning: Received createRequest signal on a disposed ResourceObject's NetworkAccessManager. This might be an indication of an iframe taking too long to load.\r\n[============================================================] 100%\rDone                                                               \r\nError: Failed to load about:blank, with network status code 301 and http status code 0 - Protocol \"about\" is unknown\r\n",
     "output_type": "error",
     "traceback": [
      "\u001b[1;31m---------------------------------------------------------------------------\u001b[0m",
      "\u001b[1;31mOSError\u001b[0m                                   Traceback (most recent call last)",
      "\u001b[1;32m<ipython-input-3-780067a7c85c>\u001b[0m in \u001b[0;36m<module>\u001b[1;34m()\u001b[0m\n\u001b[1;32m----> 1\u001b[1;33m \u001b[0mtoImage\u001b[0m\u001b[1;33m(\u001b[0m\u001b[1;34m'csvtest.csv'\u001b[0m\u001b[1;33m)\u001b[0m\u001b[1;33m\u001b[0m\u001b[0m\n\u001b[0m",
      "\u001b[1;32m<ipython-input-2-fd5137a15105>\u001b[0m in \u001b[0;36mtoImage\u001b[1;34m(csvFile)\u001b[0m\n\u001b[0;32m      5\u001b[0m         \u001b[0mi\u001b[0m \u001b[1;33m=\u001b[0m \u001b[1;36m0\u001b[0m\u001b[1;33m\u001b[0m\u001b[0m\n\u001b[0;32m      6\u001b[0m         \u001b[1;32mfor\u001b[0m \u001b[0mrow\u001b[0m \u001b[1;32min\u001b[0m \u001b[0mread\u001b[0m\u001b[1;33m:\u001b[0m \u001b[1;31m#迴圈讀取檔案中的row\u001b[0m\u001b[1;33m\u001b[0m\u001b[0m\n\u001b[1;32m----> 7\u001b[1;33m             \u001b[0mimgkit\u001b[0m\u001b[1;33m.\u001b[0m\u001b[0mfrom_url\u001b[0m\u001b[1;33m(\u001b[0m\u001b[0mrow\u001b[0m \u001b[1;33m,\u001b[0m \u001b[0mstr\u001b[0m\u001b[1;33m(\u001b[0m\u001b[0mi\u001b[0m\u001b[1;33m)\u001b[0m \u001b[1;33m+\u001b[0m \u001b[1;34m'.jpg'\u001b[0m\u001b[1;33m)\u001b[0m  \u001b[1;31m#取出每row第一個column(即 url),並以 順序+.jpg的方式命名儲存\u001b[0m\u001b[1;33m\u001b[0m\u001b[0m\n\u001b[0m\u001b[0;32m      8\u001b[0m             \u001b[0mi\u001b[0m \u001b[1;33m+=\u001b[0m \u001b[1;36m1\u001b[0m\u001b[1;33m\u001b[0m\u001b[0m\n",
      "\u001b[1;32m~\\Anaconda3\\lib\\site-packages\\imgkit\\api.py\u001b[0m in \u001b[0;36mfrom_url\u001b[1;34m(url, output_path, options, toc, cover, config, cover_first)\u001b[0m\n\u001b[0;32m     30\u001b[0m                  \u001b[0mconfig\u001b[0m\u001b[1;33m=\u001b[0m\u001b[0mconfig\u001b[0m\u001b[1;33m,\u001b[0m\u001b[1;33m\u001b[0m\u001b[0m\n\u001b[0;32m     31\u001b[0m                  cover_first=cover_first)\n\u001b[1;32m---> 32\u001b[1;33m     \u001b[1;32mreturn\u001b[0m \u001b[0mrtn\u001b[0m\u001b[1;33m.\u001b[0m\u001b[0mto_img\u001b[0m\u001b[1;33m(\u001b[0m\u001b[0moutput_path\u001b[0m\u001b[1;33m)\u001b[0m\u001b[1;33m\u001b[0m\u001b[0m\n\u001b[0m\u001b[0;32m     33\u001b[0m \u001b[1;33m\u001b[0m\u001b[0m\n\u001b[0;32m     34\u001b[0m \u001b[1;33m\u001b[0m\u001b[0m\n",
      "\u001b[1;32m~\\Anaconda3\\lib\\site-packages\\imgkit\\imgkit.py\u001b[0m in \u001b[0;36mto_img\u001b[1;34m(self, path)\u001b[0m\n\u001b[0;32m    238\u001b[0m \u001b[1;33m\u001b[0m\u001b[0m\n\u001b[0;32m    239\u001b[0m         \u001b[1;32mif\u001b[0m \u001b[1;34m'Error'\u001b[0m \u001b[1;32min\u001b[0m \u001b[0mstderr\u001b[0m\u001b[1;33m:\u001b[0m\u001b[1;33m\u001b[0m\u001b[0m\n\u001b[1;32m--> 240\u001b[1;33m             \u001b[1;32mraise\u001b[0m \u001b[0mIOError\u001b[0m\u001b[1;33m(\u001b[0m\u001b[1;34m'wkhtmltoimage reported an error:\\n'\u001b[0m \u001b[1;33m+\u001b[0m \u001b[0mstderr\u001b[0m\u001b[1;33m)\u001b[0m\u001b[1;33m\u001b[0m\u001b[0m\n\u001b[0m\u001b[0;32m    241\u001b[0m \u001b[1;33m\u001b[0m\u001b[0m\n\u001b[0;32m    242\u001b[0m         \u001b[1;32mif\u001b[0m \u001b[0mexit_code\u001b[0m \u001b[1;33m!=\u001b[0m \u001b[1;36m0\u001b[0m\u001b[1;33m:\u001b[0m\u001b[1;33m\u001b[0m\u001b[0m\n",
      "\u001b[1;31mOSError\u001b[0m: wkhtmltoimage reported an error:\nLoading page (1/2)\r\n[>                                                           ] 0%\r[======>                                                     ] 10%\r[==================>                                         ] 30%\r[===============================>                            ] 52%\r[==================================>                         ] 57%\r[=====================================>                      ] 62%\r[=======================================>                    ] 65%\r[=============================================>              ] 76%\r[=================================================>          ] 83%\r[===================================================>        ] 86%\r[====================================================>       ] 88%\r[============================================================] 100%\rRendering (2/2)                                                    \r\n[>                                                           ] 0%\r[===============>                                            ] 25%\rWarning: Received createRequest signal on a disposed ResourceObject's NetworkAccessManager. This might be an indication of an iframe taking too long to load.\r\n[============================================================] 100%\rDone                                                               \r\nError: Failed to load about:blank, with network status code 301 and http status code 0 - Protocol \"about\" is unknown\r\n"
     ]
    }
   ],
   "source": [
    "toImage('csvtest.csv') #直接打檔名即可"
   ]
  },
  {
   "cell_type": "code",
   "execution_count": null,
   "metadata": {},
   "outputs": [],
   "source": []
  }
 ],
 "metadata": {
  "kernelspec": {
   "display_name": "Python 3",
   "language": "python",
   "name": "python3"
  },
  "language_info": {
   "codemirror_mode": {
    "name": "ipython",
    "version": 3
   },
   "file_extension": ".py",
   "mimetype": "text/x-python",
   "name": "python",
   "nbconvert_exporter": "python",
   "pygments_lexer": "ipython3",
   "version": "3.6.4"
  }
 },
 "nbformat": 4,
 "nbformat_minor": 2
}
